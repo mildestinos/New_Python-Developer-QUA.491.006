{
 "cells": [
  {
   "cell_type": "markdown",
   "id": "dd90c083",
   "metadata": {},
   "source": [
    "# Titulo do meu texto \n",
    "---"
   ]
  },
  {
   "cell_type": "markdown",
   "id": "e748def7",
   "metadata": {},
   "source": [
    "## Subtítulo\n"
   ]
  },
  {
   "cell_type": "markdown",
   "id": "3d5e77a6",
   "metadata": {},
   "source": [
    "### Titulo de nível 3"
   ]
  },
  {
   "cell_type": "markdown",
   "id": "a4bae476",
   "metadata": {},
   "source": [
    "aqui eu posso digitar qualquer coisa. Adcionando mais texto."
   ]
  },
  {
   "cell_type": "markdown",
   "id": "ad26bd53",
   "metadata": {},
   "source": [
    "Novo markdown adcionado embaixo do texto"
   ]
  },
  {
   "cell_type": "markdown",
   "id": "f004a427",
   "metadata": {},
   "source": []
  },
  {
   "cell_type": "markdown",
   "id": "b8c70c44",
   "metadata": {},
   "source": [
    "Exemplificar um código em python `print(\"Olá, mundo!\")`"
   ]
  },
  {
   "cell_type": "markdown",
   "id": "002ef1a0",
   "metadata": {},
   "source": [
    "Código-fonte  completo em "
   ]
  },
  {
   "cell_type": "markdown",
   "id": "546d85f7",
   "metadata": {},
   "source": [
    "\n",
    "| Coluna 1 | Coluna 2 | Coluna 3 |\n",
    "|----------|----------|----------|\n",
    "| Dado 1   | Dado 2   | Dado 3   |\n",
    "| Dado 4   | Dado 5   | Dado 6   |"
   ]
  },
  {
   "cell_type": "markdown",
   "id": "036cdb0d",
   "metadata": {},
   "source": [
    "# 📊 Dashboard Mensal – Projeto de Ciência de Dados\n",
    "\n",
    "| Mês/Ano    | KPI 1: Acurácia (%) | KPI 2: Tempo de Processamento (s) | KPI 3: Redução de Custos (%) | Status Geral |\n",
    "|------------|--------------------|-----------------------------------|-----------------------------|--------------|\n",
    "| 01/2025    | 87.5               | 12.3                              | 5.2                         | ✅           |\n",
    "| 02/2025    | 89.1               | 11.8                              | 6.4                         | ✅           |\n",
    "| 03/2025    | 88.4               | 12.0                              | 6.8                         | ⚠️           |\n",
    "| 04/2025    | 90.2               | 10.9                              | 7.1                         | 🚀           |\n",
    "| 05/2025    | 91.0               | 10.5                              | 7.4                         | 🚀           |\n",
    "\n",
    "**Legenda de Status:**\n",
    "- ✅ = Dentro da meta  \n",
    "- ⚠️ = Atenção – ajuste necessário  \n",
    "- 🚀 = Superou meta  \n"
   ]
  },
  {
   "cell_type": "markdown",
   "id": "70b44dc5",
   "metadata": {},
   "source": [
    "| Mês/Ano | Acurácia (%) |\n",
    "|---------|--------------|\n",
    "| 01/2025 | {{acuracia_jan}} |\n",
    "| 02/2025 | {{acuracia_fev}} |\n"
   ]
  },
  {
   "cell_type": "markdown",
   "id": "807e7e46",
   "metadata": {},
   "source": [
    "# 📊 Dashboard Mensal – Projeto de Ciência de Dados\n",
    "\n",
    "| Mês/Ano   |   KPI 1: Acurácia (%) |   KPI 2: Tempo de Processamento (s) |   KPI 3: Redução de Custos (%) | Status Geral   |\n",
    "|:----------|-----------------------:|------------------------------------:|-------------------------------:|:---------------|\n",
    "| 01/2025   |                   87.5 |                                12.3 |                            5.2 | ⚠️             |\n",
    "| 02/2025   |                   89.1 |                                11.8 |                            6.4 | ⚠️             |\n",
    "| 03/2025   |                   88.4 |                                12   |                            6.8 | ⚠️             |\n",
    "| 04/2025   |                   90.2 |                                10.9 |                            7.1 | 🚀             |\n",
    "| 05/2025   |                   91   |                                10.5 |                            7.4 | 🚀             |\n",
    "\n",
    "**Legenda de Status:**\n",
    "- ✅ = Dentro da meta  \n",
    "- ⚠️ = Atenção – ajuste necessário  \n",
    "- 🚀 = Superou meta  \n",
    "\n",
    "_Gerado automaticamente em 2025-08-16 00:33:33_\n"
   ]
  },
  {
   "cell_type": "code",
   "execution_count": 1,
   "id": "c35ef453",
   "metadata": {},
   "outputs": [
    {
     "name": "stdout",
     "output_type": "stream",
     "text": [
      "Olá, mundo!\n"
     ]
    }
   ],
   "source": [
    "print(\"Olá, mundo!\")"
   ]
  }
 ],
 "metadata": {
  "kernelspec": {
   "display_name": ".venv",
   "language": "python",
   "name": "python3"
  },
  "language_info": {
   "codemirror_mode": {
    "name": "ipython",
    "version": 3
   },
   "file_extension": ".py",
   "mimetype": "text/x-python",
   "name": "python",
   "nbconvert_exporter": "python",
   "pygments_lexer": "ipython3",
   "version": "3.13.4"
  }
 },
 "nbformat": 4,
 "nbformat_minor": 5
}
